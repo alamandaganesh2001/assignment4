{
  "nbformat": 4,
  "nbformat_minor": 0,
  "metadata": {
    "colab": {
      "name": "Assignment4.ipynb",
      "provenance": []
    },
    "kernelspec": {
      "name": "python3",
      "display_name": "Python 3"
    },
    "language_info": {
      "name": "python"
    }
  },
  "cells": [
    {
      "cell_type": "code",
      "metadata": {
        "colab": {
          "base_uri": "https://localhost:8080/"
        },
        "id": "S5a0PRDP4m3u",
        "outputId": "c886adc8-b501-4f33-b8aa-fb2ca540b618"
      },
      "source": [
        "n = int(input('enter altitude'))\n",
        "if n<1000:\n",
        "  print(\"land the plane\")\n",
        "elif 1000=<n<=5000:\n",
        "  print('bring down to 1000ft')\n",
        "else:\n",
        "  print('Turn around and try later')\n"
      ],
      "execution_count": 2,
      "outputs": [
        {
          "output_type": "stream",
          "text": [
            "enter altitude6000\n",
            "Turn around and try later\n"
          ],
          "name": "stdout"
        }
      ]
    }
  ]
}